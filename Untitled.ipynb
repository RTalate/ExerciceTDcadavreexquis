{
 "cells": [
  {
   "cell_type": "code",
   "execution_count": null,
   "id": "a8bfc4b7-2c89-4fa1-9359-3801a3f87e9f",
   "metadata": {},
   "outputs": [],
   "source": [
    "# On tente de faire rentrer ce notebook dans la branche\n",
    "# Je ne veux pas qu'il apparaisse dans master, par contre."
   ]
  }
 ],
 "metadata": {
  "kernelspec": {
   "display_name": "Python 3 (ipykernel)",
   "language": "python",
   "name": "python3"
  },
  "language_info": {
   "codemirror_mode": {
    "name": "ipython",
    "version": 3
   },
   "file_extension": ".py",
   "mimetype": "text/x-python",
   "name": "python",
   "nbconvert_exporter": "python",
   "pygments_lexer": "ipython3",
   "version": "3.9.7"
  }
 },
 "nbformat": 4,
 "nbformat_minor": 5
}
